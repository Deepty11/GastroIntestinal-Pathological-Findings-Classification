{
  "nbformat": 4,
  "nbformat_minor": 0,
  "metadata": {
    "colab": {
      "name": "Image Processing-cropping black margins_GI.ipynb",
      "provenance": [],
      "include_colab_link": true
    },
    "kernelspec": {
      "name": "python3",
      "display_name": "Python 3"
    },
    "language_info": {
      "name": "python"
    }
  },
  "cells": [
    {
      "cell_type": "markdown",
      "metadata": {
        "id": "view-in-github",
        "colab_type": "text"
      },
      "source": [
        "<a href=\"https://colab.research.google.com/github/Deepty11/GastroIntestinal-Pathological-Findings-Classification/blob/main/Image_Processing_cropping_black_margins_GI.ipynb\" target=\"_parent\"><img src=\"https://colab.research.google.com/assets/colab-badge.svg\" alt=\"Open In Colab\"/></a>"
      ]
    },
    {
      "cell_type": "code",
      "metadata": {
        "id": "Pfh38gfzmCxF",
        "colab": {
          "base_uri": "https://localhost:8080/"
        },
        "outputId": "2079618f-8f2c-43b0-e96c-894d5e893d0e"
      },
      "source": [
        "from google.colab import drive\n",
        "drive.mount('/content/drive')"
      ],
      "execution_count": null,
      "outputs": [
        {
          "output_type": "stream",
          "name": "stdout",
          "text": [
            "Mounted at /content/drive\n"
          ]
        }
      ]
    },
    {
      "cell_type": "code",
      "metadata": {
        "id": "Cn-JhxAkDiLu"
      },
      "source": [
        "import cv2\n",
        "img = cv2.imread(\"/content/drive/MyDrive/hoho/0aba288f-aa30-40dc-8ef7-45b03adff020.jpg\")\n",
        "img1 = cv2.imread(\"/content/drive/MyDrive/hoho/2cdd2026-4888-45c5-8581-5ebc7a1bf893.jpg\")\n",
        "img2 = cv2.imread(\"/content/drive/MyDrive/hoho/6cb58c17-f270-4c55-80ca-5a6ef6f9a363.jpg\")\n",
        "\n",
        "polyps_dir = \"/content/drive/MyDrive/Thesis work/kvasir-dataset-v2/polyps\"\n",
        "esophagitis_dir = \"/content/drive/MyDrive/Thesis work/kvasir-dataset-v2/esophagitis\"\n",
        "ulcerative_colitis_dir = \"/content/drive/MyDrive/Thesis work/kvasir-dataset-v2/ulcerative-colitis\"\n",
        "\n",
        "polypsV2_dir = \"/content/drive/MyDrive/Thesis work/kvasir-dataset-v2/polyps_v2\"\n",
        "esophagitisV2_dir = \"/content/drive/MyDrive/Thesis work/kvasir-dataset-v2/esophagitis_v2\"\n",
        "ulcerative_colitisV2_dir = \"/content/drive/MyDrive/Thesis work/kvasir-dataset-v2/ulcerative_colitis_v2\"\n",
        "\n",
        "normal_cecum_dir = \"/content/drive/MyDrive/Thesis work/kvasir-dataset-v2/normal-cecum\"\n",
        "normal_pylorus_dir = \"/content/drive/MyDrive/Thesis work/kvasir-dataset-v2/normal-pylorus\"\n",
        "normal_z_line_dir = \"/content/drive/MyDrive/Thesis work/kvasir-dataset-v2/normal-z-line\"\n",
        "\n",
        "normal_z_lineV2_dir  = \"/content/drive/MyDrive/Thesis work/kvasir-dataset-v2/normal_z_line_v2\"\n",
        "normal_cecumV2_dir = \"/content/drive/MyDrive/Thesis work/kvasir-dataset-v2/normal_cecum_v2\"\n",
        "normal_pylorusV2_dir = \"/content/drive/MyDrive/Thesis work/kvasir-dataset-v2/normal_pylorus_v2\"\n",
        "\n",
        "# polypsV3_dir = \"/content/drive/MyDrive/Thesis work/kvasir-dataset-v2/polypsV3\"\n",
        "# esophagitisV3_dir = \"/content/drive/MyDrive/Thesis work/kvasir-dataset-v2/esophagitisV3\"\n",
        "# ulcerative_colitisV3_dir = \"/content/drive/MyDrive/Thesis work/kvasir-dataset-v2/ulcerative_colitisV3\"\n",
        "\n",
        "# img2.shape"
      ],
      "execution_count": null,
      "outputs": []
    },
    {
      "cell_type": "markdown",
      "metadata": {
        "id": "CkFn0LsZWg5-"
      },
      "source": [
        "**To check cropping effect on a single image of different resolution**"
      ]
    },
    {
      "cell_type": "code",
      "metadata": {
        "id": "XZzlVNC_6SEX"
      },
      "source": [
        "\n",
        "# the width and height range may vary based on the image resolutions\n",
        "crop_img = img2[20:1000, 50:1230]\n",
        "cv2_imshow(crop_img)\n",
        "newDir = \"/content/drive/MyDrive/Polyps/eso-1.jpg\"\n",
        "# cv2.imwrite(newDir,crop_img)\n",
        "cv2.waitKey(0)\n",
        "crop_img.shape"
      ],
      "execution_count": null,
      "outputs": []
    },
    {
      "cell_type": "markdown",
      "metadata": {
        "id": "9hH4mmtvCeS6"
      },
      "source": [
        "Utility function for Cropping Image\n"
      ]
    },
    {
      "cell_type": "code",
      "metadata": {
        "id": "mbSRb-8oCc9-"
      },
      "source": [
        "import os\n",
        "def editImage(source_folder, dest_folder):\n",
        "  width1 = 0\n",
        "  width2 = 0\n",
        "  width3 = 0\n",
        "  for filename in os.listdir(source_folder):\n",
        "    img = cv2.imread(os.path.join(source_folder,filename))\n",
        "    width = img.shape[1]\n",
        "    height = img.shape[0]\n",
        "    if width == 1920:\n",
        "      width1 += 1\n",
        "      crop_img = img[0:1072, 500:1800]\n",
        "    elif width == 1280:\n",
        "      width2 += 1\n",
        "      crop_img = img[20:1000, 50:1230]\n",
        "    else:\n",
        "      width3 += 1\n",
        "      crop_img = img[30:550, 90:660]\n",
        "    crop_img = cv2.resize(crop_img, (300,300), interpolation = cv2.INTER_AREA)\n",
        "    newDir = os.path.join(dest_folder,filename)\n",
        "    cv2.imwrite(newDir,crop_img)\n",
        "  # print(\"width1: \", width1)\n",
        "  # print(\"width2: \", width2)\n",
        "  # print(\"width3: \", width3)\n"
      ],
      "execution_count": null,
      "outputs": []
    },
    {
      "cell_type": "code",
      "metadata": {
        "id": "VFmJ_tZaFRI8"
      },
      "source": [
        "# source_folder = \"/content/drive/MyDrive/ulcerative-colitis\"\n",
        "# dest_folder = \"/content/drive/MyDrive/ulcerative-colitis_dest\"\n",
        "editImage(polyps_dir, polypsV2_dir)\n",
        "editImage(esophagitis_dir, esophagitisV2_dir)\n",
        "editImage(ulcerative_colitis_dir, ulcerative_colitisV2_dir)\n",
        "editImage(normal_cecum_dir,normal_cecumV2_dir)\n",
        "editImage(normal_pylorus_dir,normal_pylorusV2_dir)\n",
        "editImage(normal_z_line_dir,normal_z_lineV2_dir)"
      ],
      "execution_count": null,
      "outputs": []
    },
    {
      "cell_type": "code",
      "metadata": {
        "id": "z42Fi3xNRvG3"
      },
      "source": [
        "# def editImage2(source_folder, dest_folder):\n",
        " \n",
        "#   for filename in os.listdir(source_folder):\n",
        "#     img = cv2.imread(os.path.join(source_folder,filename))\n",
        "#     width = img.shape[1]\n",
        "#     height = img.shape[0]\n",
        "#     if width == 610:\n",
        "#       crop_img = img[0:520, 25:595]\n",
        "#     newDir = os.path.join(dest_folder,filename)\n",
        "#     cv2.imwrite(newDir,crop_img)\n",
        "  "
      ],
      "execution_count": null,
      "outputs": []
    },
    {
      "cell_type": "code",
      "metadata": {
        "id": "SU2ANUFBSBj9"
      },
      "source": [
        "source_folder = \"/content/drive/MyDrive/polyps_dest\"\n",
        "dest_folder = \"/content/drive/MyDrive/polyps_dest\"\n",
        "editImage2(source_folder, dest_folder)"
      ],
      "execution_count": null,
      "outputs": []
    }
  ]
}