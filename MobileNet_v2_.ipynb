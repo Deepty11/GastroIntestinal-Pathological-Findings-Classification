{
  "nbformat": 4,
  "nbformat_minor": 0,
  "metadata": {
    "colab": {
      "name": "MobileNet_v2 .ipynb",
      "provenance": [],
      "collapsed_sections": [],
      "toc_visible": true,
      "machine_shape": "hm",
      "include_colab_link": true
    },
    "kernelspec": {
      "name": "python3",
      "display_name": "Python 3"
    }
  },
  "cells": [
    {
      "cell_type": "markdown",
      "metadata": {
        "id": "view-in-github",
        "colab_type": "text"
      },
      "source": [
        "<a href=\"https://colab.research.google.com/github/Deepty11/GastroIntestinal-Pathological-Findings-Classification/blob/main/MobileNet_v2_.ipynb\" target=\"_parent\"><img src=\"https://colab.research.google.com/assets/colab-badge.svg\" alt=\"Open In Colab\"/></a>"
      ]
    },
    {
      "cell_type": "code",
      "metadata": {
        "id": "kj_ctJXUIsrV"
      },
      "source": [
        ""
      ],
      "execution_count": null,
      "outputs": []
    },
    {
      "cell_type": "code",
      "metadata": {
        "colab": {
          "base_uri": "https://localhost:8080/"
        },
        "id": "DsBzCd27mRPb",
        "outputId": "eb924aee-5603-4963-c622-2b3df27a278f"
      },
      "source": [
        "from google.colab import drive\n",
        "drive.mount(\"/content/dirve\")"
      ],
      "execution_count": 1,
      "outputs": [
        {
          "output_type": "stream",
          "name": "stdout",
          "text": [
            "Mounted at /content/dirve\n"
          ]
        }
      ]
    },
    {
      "cell_type": "code",
      "metadata": {
        "id": "WVDrgNe_mRS4"
      },
      "source": [
        "try:\n",
        "  # %tensorflow_version only exists in Colab.\n",
        "  %tensorflow_version 2.x\n",
        "except Exception:\n",
        "  pass\n",
        "  \n",
        "import tensorflow as tf\n",
        "import tensorflow_datasets as tfds\n",
        "\n",
        "import numpy as np\n",
        "import matplotlib.pyplot as plt\n",
        "\n",
        "import os\n",
        "import cv2\n",
        "import random\n",
        "from tqdm import tqdm\n",
        "from keras.preprocessing.image import img_to_array\n",
        "from google.colab.patches import cv2_imshow\n",
        "from keras.models import Sequential\n",
        "from sklearn.model_selection import train_test_split\n",
        "\n",
        "from sklearn import metrics\n",
        "from sklearn.metrics import confusion_matrix\n",
        "from tensorflow.keras.preprocessing import image\n",
        "from tensorflow.keras.preprocessing.image import ImageDataGenerator, img_to_array, load_img \n",
        "from tensorflow.keras.models import Sequential \n",
        "from tensorflow.keras import optimizers\n",
        "from tensorflow.keras.preprocessing import image\n",
        "from tensorflow.keras.layers import Dropout, Flatten, Dense \n",
        "from tensorflow.keras import applications \n",
        "from keras.utils.np_utils import to_categorical \n",
        "from tensorflow.keras.applications.mobilenet import MobileNet\n",
        "from tensorflow import keras\n",
        "%matplotlib inline\n",
        "import math \n",
        "import datetime\n",
        "import time\n",
        "BATCH_SIZE = 70\n",
        "SHUFFLE_BUFFER_SIZE = 1024\n",
        "IMAGE_SIZE = 300"
      ],
      "execution_count": 2,
      "outputs": []
    },
    {
      "cell_type": "markdown",
      "metadata": {
        "id": "6hoIZmaRn9V2"
      },
      "source": [
        "# Data Preprocessing"
      ]
    },
    {
      "cell_type": "code",
      "metadata": {
        "colab": {
          "base_uri": "https://localhost:8080/"
        },
        "id": "MENZHoNSlG9i",
        "outputId": "f17adc2a-541f-4440-ef57-cbe51cc4cabf"
      },
      "source": [
        "from keras.preprocessing.image import ImageDataGenerator\n",
        "base_dir = '/content/dirve/MyDrive/Thesis work/dataset_v2'\n",
        "train_datagen = ImageDataGenerator(rescale = 1./255,\n",
        "                                   shear_range = 0.1,\n",
        "                                   horizontal_flip = True,\n",
        "                                   validation_split = 0.1)\n",
        "validation_datagen = ImageDataGenerator(rescale = 1./255,\n",
        "                                        validation_split = 0.1)\n",
        "\n",
        "train_datagen = train_datagen.flow_from_directory(base_dir,\n",
        "                                                 target_size = (IMAGE_SIZE, IMAGE_SIZE),\n",
        "                                                 batch_size = BATCH_SIZE,\n",
        "                                                  subset = \"training\",\n",
        "                                                  shuffle = True\n",
        "                                                  )\n",
        "\n",
        "validation_datagen = validation_datagen.flow_from_directory(base_dir,\n",
        "                                            target_size = (IMAGE_SIZE, IMAGE_SIZE),\n",
        "                                            batch_size = BATCH_SIZE,\n",
        "                                            shuffle =False,\n",
        "                                            subset =\"validation\")"
      ],
      "execution_count": 3,
      "outputs": [
        {
          "output_type": "stream",
          "name": "stdout",
          "text": [
            "Found 5403 images belonging to 6 classes.\n",
            "Found 598 images belonging to 6 classes.\n"
          ]
        }
      ]
    },
    {
      "cell_type": "code",
      "metadata": {
        "id": "-l4Q0TIlX2UK",
        "colab": {
          "base_uri": "https://localhost:8080/"
        },
        "outputId": "8c6280bb-3280-40d4-e0b2-3722300c07e2"
      },
      "source": [
        "test_dir = '/content/dirve/MyDrive/Thesis work/dataset'\n",
        "\n",
        "test_datagen = ImageDataGenerator(rescale = 1./255, validation_split = 0.2)\n",
        "\n",
        "\n",
        "test_datagen = test_datagen.flow_from_directory(test_dir,\n",
        "                                            target_size = (IMAGE_SIZE, IMAGE_SIZE),\n",
        "                                            batch_size = BATCH_SIZE,\n",
        "                                            shuffle =False,\n",
        "                                            subset = \"validation\")"
      ],
      "execution_count": 4,
      "outputs": [
        {
          "output_type": "stream",
          "name": "stdout",
          "text": [
            "Found 600 images belonging to 6 classes.\n"
          ]
        }
      ]
    },
    {
      "cell_type": "markdown",
      "metadata": {
        "id": "3zoIf3aonpWp"
      },
      "source": [
        "# Building Model"
      ]
    },
    {
      "cell_type": "code",
      "metadata": {
        "id": "aO5awpx3mRYT",
        "colab": {
          "base_uri": "https://localhost:8080/"
        },
        "outputId": "d123be2e-a56d-4d02-f44a-289cdeadd4be"
      },
      "source": [
        "from keras.callbacks import EarlyStopping, ModelCheckpoint\n",
        "\n",
        "\n",
        "IMG_SHAPE = (IMAGE_SIZE, IMAGE_SIZE, 3)\n",
        "\n",
        "base_model = tf.keras.applications.MobileNet(input_shape=IMG_SHAPE, \n",
        "                                             include_top=False)\n",
        "base_model.trainable = False\n",
        "\n",
        "base_model = tf.keras.Sequential([\n",
        "  base_model,\n",
        "  keras.layers.GlobalAveragePooling2D(),\n",
        "  keras.layers.BatchNormalization(),\n",
        "  keras.layers.Dense(150, activation='relu'),\n",
        "  keras.layers.BatchNormalization(),\n",
        "  keras.layers.Dropout(0.4),\n",
        "  keras.layers.Dense(70, activation='relu'),\n",
        "  keras.layers.Dropout(0.4),\n",
        "  keras.layers.Dense(6, activation='softmax')\n",
        "])\n",
        "\n",
        "base_model.summary()\n",
        "\n",
        "base_model.compile(optimizer=tf.keras.optimizers.RMSprop(learning_rate=0.0001),\n",
        "              loss='categorical_crossentropy',\n",
        "              metrics=['accuracy'])\n",
        "\n",
        "epochs = 80\n",
        "steps_per_epoch = np.ceil(train_datagen.n / BATCH_SIZE)\n",
        "validation_steps = np.ceil(validation_datagen.n / BATCH_SIZE)\n",
        "\n"
      ],
      "execution_count": null,
      "outputs": [
        {
          "output_type": "stream",
          "name": "stdout",
          "text": [
            "WARNING:tensorflow:`input_shape` is undefined or non-square, or `rows` is not in [128, 160, 192, 224]. Weights for input shape (224, 224) will be loaded as the default.\n",
            "Model: \"sequential_12\"\n",
            "_________________________________________________________________\n",
            "Layer (type)                 Output Shape              Param #   \n",
            "=================================================================\n",
            "mobilenet_1.00_224 (Function (None, 9, 9, 1024)        3228864   \n",
            "_________________________________________________________________\n",
            "global_average_pooling2d_12  (None, 1024)              0         \n",
            "_________________________________________________________________\n",
            "batch_normalization_25 (Batc (None, 1024)              4096      \n",
            "_________________________________________________________________\n",
            "dense_36 (Dense)             (None, 150)               153750    \n",
            "_________________________________________________________________\n",
            "batch_normalization_26 (Batc (None, 150)               600       \n",
            "_________________________________________________________________\n",
            "dropout_24 (Dropout)         (None, 150)               0         \n",
            "_________________________________________________________________\n",
            "dense_37 (Dense)             (None, 70)                10570     \n",
            "_________________________________________________________________\n",
            "dropout_25 (Dropout)         (None, 70)                0         \n",
            "_________________________________________________________________\n",
            "dense_38 (Dense)             (None, 6)                 426       \n",
            "=================================================================\n",
            "Total params: 3,398,306\n",
            "Trainable params: 167,094\n",
            "Non-trainable params: 3,231,212\n",
            "_________________________________________________________________\n"
          ]
        }
      ]
    },
    {
      "cell_type": "code",
      "metadata": {
        "id": "1TNQ3BButc1f"
      },
      "source": [
        "# class EarlyStopByF1(keras.callbacks.Callback):\n",
        "#     def __init__(self, value = 0, verbose = 0):\n",
        "#         super(keras.callbacks.Callback, self).__init__()\n",
        "#         self.value = value\n",
        "#         self.verbose = verbose\n",
        "\n",
        "\n",
        "#     def on_epoch_end(self, epoch, logs={}):\n",
        "#          predict = np.asarray(self.model.predict(self.validation_datagen[0]))\n",
        "#          target = self.validation_data[1]\n",
        "#          score = f1_score(target, prediction)\n",
        "#          if score > self.value:\n",
        "#             if self.verbose >0:\n",
        "#                 print(\"Epoch %05d: early stopping Threshold\" % epoch)\n",
        "#             self.model.stop_training = True\n",
        "\n",
        "\n",
        "# callbacks = [EarlyStopByF1(value = .88, verbose =1)]"
      ],
      "execution_count": null,
      "outputs": []
    },
    {
      "cell_type": "markdown",
      "metadata": {
        "id": "QbR2SzxinuJa"
      },
      "source": [
        "# Training Model"
      ]
    },
    {
      "cell_type": "code",
      "metadata": {
        "colab": {
          "base_uri": "https://localhost:8080/"
        },
        "id": "-kVx52Bgthd9",
        "outputId": "2df78f1d-f19e-46ad-9200-e48513c1a16f"
      },
      "source": [
        "es = EarlyStopping(monitor='val_loss', mode= 'min', verbose=1, patience= 3)\n",
        "ms = ModelCheckpoint(filepath='/content/dirve/MyDrive/Thesis work/mobileNet_best_model.h5',\n",
        "                     monitor='val_loss', \n",
        "                     save_best_only=True)\n",
        "\n",
        "history = base_model.fit(train_datagen,\n",
        "                        steps_per_epoch = steps_per_epoch,\n",
        "                        epochs=epochs,\n",
        "                        validation_data=validation_datagen,\n",
        "                        validation_steps=validation_steps,\n",
        "                        callbacks = [es,ms]\n",
        "                        )\n",
        "\n",
        "base_model.save('/content/dirve/MyDrive/Thesis work/MobileNet_TransferLearning_KVasir.h5')\n",
        "print(\"Completed!\")\n"
      ],
      "execution_count": null,
      "outputs": [
        {
          "output_type": "stream",
          "name": "stdout",
          "text": [
            "Epoch 1/80\n",
            "78/78 [==============================] - 229s 3s/step - loss: 1.8765 - accuracy: 0.3548 - val_loss: 1.1306 - val_accuracy: 0.6438\n",
            "Epoch 2/80\n",
            "78/78 [==============================] - 199s 3s/step - loss: 1.1359 - accuracy: 0.5812 - val_loss: 0.6974 - val_accuracy: 0.7726\n",
            "Epoch 3/80\n",
            "78/78 [==============================] - 199s 3s/step - loss: 0.8697 - accuracy: 0.6798 - val_loss: 0.5280 - val_accuracy: 0.8261\n",
            "Epoch 4/80\n",
            "78/78 [==============================] - 202s 3s/step - loss: 0.7477 - accuracy: 0.7344 - val_loss: 0.4672 - val_accuracy: 0.8278\n",
            "Epoch 5/80\n",
            "78/78 [==============================] - 202s 3s/step - loss: 0.6380 - accuracy: 0.7696 - val_loss: 0.4329 - val_accuracy: 0.8411\n",
            "Epoch 6/80\n",
            "78/78 [==============================] - 202s 3s/step - loss: 0.5719 - accuracy: 0.7890 - val_loss: 0.4154 - val_accuracy: 0.8445\n",
            "Epoch 7/80\n",
            "78/78 [==============================] - 202s 3s/step - loss: 0.5498 - accuracy: 0.7981 - val_loss: 0.4015 - val_accuracy: 0.8478\n",
            "Epoch 8/80\n",
            "78/78 [==============================] - 203s 3s/step - loss: 0.4964 - accuracy: 0.8188 - val_loss: 0.3908 - val_accuracy: 0.8495\n",
            "Epoch 9/80\n",
            "78/78 [==============================] - 203s 3s/step - loss: 0.4567 - accuracy: 0.8295 - val_loss: 0.3828 - val_accuracy: 0.8595\n",
            "Epoch 10/80\n",
            "78/78 [==============================] - 204s 3s/step - loss: 0.4470 - accuracy: 0.8381 - val_loss: 0.3767 - val_accuracy: 0.8629\n",
            "Epoch 11/80\n",
            "78/78 [==============================] - 203s 3s/step - loss: 0.4182 - accuracy: 0.8468 - val_loss: 0.3746 - val_accuracy: 0.8595\n",
            "Epoch 12/80\n",
            "78/78 [==============================] - 202s 3s/step - loss: 0.4278 - accuracy: 0.8397 - val_loss: 0.3716 - val_accuracy: 0.8629\n",
            "Epoch 13/80\n",
            "78/78 [==============================] - 203s 3s/step - loss: 0.3968 - accuracy: 0.8505 - val_loss: 0.3722 - val_accuracy: 0.8612\n",
            "Epoch 14/80\n",
            "78/78 [==============================] - 203s 3s/step - loss: 0.3798 - accuracy: 0.8610 - val_loss: 0.3695 - val_accuracy: 0.8645\n",
            "Epoch 15/80\n",
            "78/78 [==============================] - 203s 3s/step - loss: 0.3677 - accuracy: 0.8601 - val_loss: 0.3643 - val_accuracy: 0.8629\n",
            "Epoch 16/80\n",
            "78/78 [==============================] - 202s 3s/step - loss: 0.3644 - accuracy: 0.8682 - val_loss: 0.3602 - val_accuracy: 0.8662\n",
            "Epoch 17/80\n",
            "78/78 [==============================] - 203s 3s/step - loss: 0.3476 - accuracy: 0.8686 - val_loss: 0.3660 - val_accuracy: 0.8645\n",
            "Epoch 18/80\n",
            "78/78 [==============================] - 202s 3s/step - loss: 0.3367 - accuracy: 0.8740 - val_loss: 0.3582 - val_accuracy: 0.8612\n",
            "Epoch 19/80\n",
            "78/78 [==============================] - 203s 3s/step - loss: 0.3311 - accuracy: 0.8745 - val_loss: 0.3620 - val_accuracy: 0.8662\n",
            "Epoch 20/80\n",
            "78/78 [==============================] - 203s 3s/step - loss: 0.3190 - accuracy: 0.8797 - val_loss: 0.3589 - val_accuracy: 0.8629\n",
            "Epoch 21/80\n",
            "78/78 [==============================] - 203s 3s/step - loss: 0.3105 - accuracy: 0.8808 - val_loss: 0.3604 - val_accuracy: 0.8662\n",
            "Epoch 00021: early stopping\n",
            "Completed!\n"
          ]
        }
      ]
    },
    {
      "cell_type": "markdown",
      "metadata": {
        "id": "0hGHwkuEngvp"
      },
      "source": [
        "# PLotting Accuracy & Loss Curve during Training"
      ]
    },
    {
      "cell_type": "code",
      "metadata": {
        "id": "JKTRQvsRxQkB",
        "colab": {
          "base_uri": "https://localhost:8080/",
          "height": 545
        },
        "outputId": "80b8e4a2-cdf9-4aed-acb7-7172f85bdc09"
      },
      "source": [
        "import matplotlib.pyplot as plt\n",
        "# plot loss during training\n",
        "# history = model.history\n",
        "# plt.subplot(211)\n",
        "plt.figure(figsize= (10,4))\n",
        "plt.title('Loss')\n",
        "plt.plot(history.history['loss'], label='train')\n",
        "plt.plot(history.history['val_loss'], label='test')\n",
        "plt.legend()\n",
        "# plot accuracy during training\n",
        "# plt.subplot(212)\n",
        "plt.figure(figsize= (10,4))\n",
        "plt.title('Accuracy')\n",
        "plt.plot(history.history['accuracy'], label='train')\n",
        "plt.plot(history.history['val_accuracy'], label='test')\n",
        "plt.legend()\n",
        "plt.show()"
      ],
      "execution_count": null,
      "outputs": [
        {
          "output_type": "display_data",
          "data": {
            "image/png": "[encoded data removed]",
            "text/plain": [
              "<Figure size 720x288 with 1 Axes>"
            ]
          },
          "metadata": {
            "needs_background": "light"
          }
        },
        {
          "output_type": "display_data",
          "data": {
            "image/png": "[encoded data removed]",
            "text/plain": [
              "<Figure size 720x288 with 1 Axes>"
            ]
          },
          "metadata": {
            "needs_background": "light"
          }
        }
      ]
    },
    {
      "cell_type": "markdown",
      "metadata": {
        "id": "HshZF17cS1zn"
      },
      "source": [
        ""
      ]
    },
    {
      "cell_type": "code",
      "metadata": {
        "colab": {
          "base_uri": "https://localhost:8080/",
          "height": 178
        },
        "id": "-x-s237Xl-VQ",
        "outputId": "6921de39-81cc-401e-91b4-cb4f8c4c94a1"
      },
      "source": [
        "while True:\n",
        "  x += 1"
      ],
      "execution_count": null,
      "outputs": [
        {
          "output_type": "error",
          "ename": "NameError",
          "evalue": "ignored",
          "traceback": [
            "\u001b[0;31m---------------------------------------------------------------------------\u001b[0m",
            "\u001b[0;31mNameError\u001b[0m                                 Traceback (most recent call last)",
            "\u001b[0;32m<ipython-input-83-be879974a750>\u001b[0m in \u001b[0;36m<module>\u001b[0;34m()\u001b[0m\n\u001b[1;32m      1\u001b[0m \u001b[0;32mwhile\u001b[0m \u001b[0;32mTrue\u001b[0m\u001b[0;34m:\u001b[0m\u001b[0;34m\u001b[0m\u001b[0;34m\u001b[0m\u001b[0m\n\u001b[0;32m----> 2\u001b[0;31m   \u001b[0mx\u001b[0m \u001b[0;34m+=\u001b[0m \u001b[0;36m1\u001b[0m\u001b[0;34m\u001b[0m\u001b[0;34m\u001b[0m\u001b[0m\n\u001b[0m",
            "\u001b[0;31mNameError\u001b[0m: name 'x' is not defined"
          ]
        }
      ]
    },
    {
      "cell_type": "markdown",
      "metadata": {
        "id": "gO5WU-DUkqLG"
      },
      "source": [
        "# Load the saved  model"
      ]
    },
    {
      "cell_type": "code",
      "metadata": {
        "id": "0xU8ccflmRfZ"
      },
      "source": [
        "from keras.models import load_model\n",
        "model = load_model('/content/dirve/MyDrive/Thesis work/MobileNet_TransferLearning_KVasir.h5')"
      ],
      "execution_count": 5,
      "outputs": []
    },
    {
      "cell_type": "markdown",
      "metadata": {
        "id": "VQ55uv1eNiLw"
      },
      "source": [
        "# Prediction & Evaluation"
      ]
    },
    {
      "cell_type": "code",
      "metadata": {
        "id": "-xccsE8omRmK"
      },
      "source": [
        "#Validation set prediction\n",
        "pred_val= model.predict(validation_datagen)\n",
        "labels_val= validation_datagen.classes\n",
        "predicted_class_indices_val = np.argmax(pred_val,axis=1)\n"
      ],
      "execution_count": 8,
      "outputs": []
    },
    {
      "cell_type": "code",
      "metadata": {
        "id": "nxqwuHFBKqkL"
      },
      "source": [
        "#Training Set Prediction\n",
        "train_datagen.reset()\n",
        "pred_train= model.predict(train)\n",
        "labels_train = train.classes\n",
        "predicted_class_indices_train=np.argmax(pred_train,axis=1)\n"
      ],
      "execution_count": 12,
      "outputs": []
    },
    {
      "cell_type": "code",
      "metadata": {
        "id": "G7huPzz44BiT"
      },
      "source": [
        "#Test Set Prediction\n",
        "pred_test= model.predict(test_datagen)\n",
        "labels_test = test_datagen.classes\n",
        "predicted_class_indices_test=np.argmax(pred_test,axis=1)"
      ],
      "execution_count": 13,
      "outputs": []
    },
    {
      "cell_type": "code",
      "metadata": {
        "id": "TbtnaVlwmRoy",
        "colab": {
          "base_uri": "https://localhost:8080/"
        },
        "outputId": "71a6844e-1f2b-419a-9104-2d618e775456"
      },
      "source": [
        "from sklearn.metrics import confusion_matrix, classification_report, ConfusionMatrixDisplay\n",
        "from sklearn.metrics import accuracy_score, precision_score, recall_score, f1_score\n",
        "import seaborn as sns\n",
        "\n",
        "#Confusion Matrix and Accuracy\n",
        "confusion_matrix_train = confusion_matrix(labels_train,predicted_class_indices_train)\n",
        "confusion_matrix_val = confusion_matrix(labels_val,predicted_class_indices_val)\n",
        "confusion_matrix_test = confusion_matrix(labels_test,predicted_class_indices_test)\n",
        "\n",
        "print(\"Training Classification Reports:\\n\")\n",
        "print(classification_report(labels_train,predicted_class_indices_train))\n",
        "\n",
        "print(\"Test Classification Reports:\\n\")\n",
        "print(classification_report(labels_test,predicted_class_indices_test))\n",
        "\n",
        "print(\"Validation Classification Reports:\\n\")\n",
        "print(classification_report(labels_val,predicted_class_indices_val))\n",
        "print(\"Training accuracy score:\", accuracy_score(labels_train, predicted_class_indices_train))\n",
        "#print(\"Training F1 score:\", f1_score(labels_train, predicted_class_indices_train))\n",
        "#print(\"Training Precision score:\", precision_score(labels_train, predicted_class_indices_train))\n",
        "#print(\"Training Recall score:\", recall_score(labels_train, predicted_class_indices_train))\n",
        "\n",
        "print(\"Validation accuracy score:\", accuracy_score(labels_val, predicted_class_indices_val))\n",
        "#print(\"Validation F1 score:\", f1_score(labels_val, predicted_class_indices_val))\n",
        "#print(\"Validation Precision score:\", precision_score(labels_val, predicted_class_indices_val))\n",
        "#print(\"Validation Recall score:\", recall_score(labels_val, predicted_class_indices_val))\n",
        "\n",
        "print(\"Test accuracy score:\", accuracy_score(labels_test, predicted_class_indices_test))\n",
        "\n"
      ],
      "execution_count": 51,
      "outputs": [
        {
          "output_type": "stream",
          "name": "stdout",
          "text": [
            "Training Classification Reports:\n",
            "\n",
            "              precision    recall  f1-score   support\n",
            "\n",
            "           0       0.90      0.78      0.84       800\n",
            "           1       0.96      0.98      0.97       799\n",
            "           2       0.98      0.99      0.99       800\n",
            "           3       0.81      0.92      0.86       805\n",
            "           4       0.99      0.96      0.97       800\n",
            "           5       0.98      0.96      0.97       798\n",
            "\n",
            "    accuracy                           0.93      4802\n",
            "   macro avg       0.94      0.93      0.93      4802\n",
            "weighted avg       0.94      0.93      0.93      4802\n",
            "\n",
            "Test Classification Reports:\n",
            "\n",
            "              precision    recall  f1-score   support\n",
            "\n",
            "           0       0.88      0.84      0.86       100\n",
            "           1       0.92      0.96      0.94       100\n",
            "           2       0.97      1.00      0.99       100\n",
            "           3       0.85      0.88      0.86       100\n",
            "           4       0.93      0.90      0.91       100\n",
            "           5       0.95      0.91      0.93       100\n",
            "\n",
            "    accuracy                           0.92       600\n",
            "   macro avg       0.92      0.92      0.91       600\n",
            "weighted avg       0.92      0.92      0.91       600\n",
            "\n",
            "Validation Classification Reports:\n",
            "\n",
            "              precision    recall  f1-score   support\n",
            "\n",
            "           0       0.84      0.69      0.76       100\n",
            "           1       0.87      0.95      0.91        99\n",
            "           2       0.97      1.00      0.99       100\n",
            "           3       0.74      0.87      0.80       100\n",
            "           4       0.86      0.83      0.85       100\n",
            "           5       0.93      0.86      0.89        99\n",
            "\n",
            "    accuracy                           0.87       598\n",
            "   macro avg       0.87      0.87      0.87       598\n",
            "weighted avg       0.87      0.87      0.87       598\n",
            "\n",
            "Training accuracy score: 0.9339858392336526\n",
            "Validation accuracy score: 0.8662207357859532\n",
            "Test accuracy score: 0.915\n"
          ]
        }
      ]
    },
    {
      "cell_type": "markdown",
      "metadata": {
        "id": "SElPQRgEoSq2"
      },
      "source": [
        "# HeatMap of Classification Results"
      ]
    },
    {
      "cell_type": "code",
      "metadata": {
        "colab": {
          "base_uri": "https://localhost:8080/",
          "height": 1000
        },
        "id": "ytnfkxOUkMVR",
        "outputId": "56903cc6-df88-441a-9344-aa5df37393dd"
      },
      "source": [
        "#Plot confusion matrix\n",
        "categories = [\"Esophagitis\",\"Normal Cecum\",\"Normal Pylorus\",\"Normal Z line\", \"Polyps\",\"Ulcerative Colitis\"]\n",
        "plt.figure(figsize=(10,8))\n",
        "ax = sns.heatmap(confusion_matrix_train, annot = True, fmt= \"d\", xticklabels=categories, yticklabels=categories,center= 1.0, cmap=\"RdBu\")\n",
        "plt.show()\n",
        "plt.figure(figsize=(10,8))\n",
        "ax = sns.heatmap(confusion_matrix_test, annot = True, fmt= \"d\", xticklabels=categories, yticklabels=categories,center= 1.0, cmap=\"twilight_shifted\")\n",
        "plt.show()\n",
        "plt.figure(figsize=(10,8))\n",
        "ax = sns.heatmap(confusion_matrix_val, annot = True, fmt= \"d\", xticklabels=categories, yticklabels=categories,center= 3.0, cmap = \"BrBG\")\n",
        "plt.show()"
      ],
      "execution_count": 56,
      "outputs": [
        {
          "output_type": "display_data",
          "data": {
            "image/png": "[encoded data removed]",
            "text/plain": [
              "<Figure size 720x576 with 2 Axes>"
            ]
          },
          "metadata": {
            "needs_background": "light"
          }
        },
        {
          "output_type": "display_data",
          "data": {
            "image/png": "[encoded data removed]",
            "text/plain": [
              "<Figure size 720x576 with 2 Axes>"
            ]
          },
          "metadata": {
            "needs_background": "light"
          }
        },
        {
          "output_type": "display_data",
          "data": {
            "image/png": "[encoded data removed]",
            "text/plain": [
              "<Figure size 720x576 with 2 Axes>"
            ]
          },
          "metadata": {
            "needs_background": "light"
          }
        }
      ]
    },
    {
      "cell_type": "code",
      "metadata": {
        "colab": {
          "base_uri": "https://localhost:8080/"
        },
        "id": "VszhZ4tWTobT",
        "outputId": "68aac28f-aeb8-4c67-ee26-fa786d1f8274"
      },
      "source": [
        "train_datagen.class_indices"
      ],
      "execution_count": 20,
      "outputs": [
        {
          "output_type": "execute_result",
          "data": {
            "text/plain": [
              "{'esophagitis': 0,\n",
              " 'normal_cecum': 1,\n",
              " 'normal_pylorus': 2,\n",
              " 'normal_z_line': 3,\n",
              " 'polyps': 4,\n",
              " 'ulcerative_colitis': 5}"
            ]
          },
          "metadata": {},
          "execution_count": 20
        }
      ]
    }
  ]
}