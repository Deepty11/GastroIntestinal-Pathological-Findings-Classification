{
  "nbformat": 4,
  "nbformat_minor": 0,
  "metadata": {
    "colab": {
      "name": "Train_Test_Folder_generation.ipynb",
      "provenance": [],
      "authorship_tag": "ABX9TyPFumGYKav03Q2oCjwMpzWY",
      "include_colab_link": true
    },
    "kernelspec": {
      "name": "python3",
      "display_name": "Python 3"
    },
    "language_info": {
      "name": "python"
    }
  },
  "cells": [
    {
      "cell_type": "markdown",
      "metadata": {
        "id": "view-in-github",
        "colab_type": "text"
      },
      "source": [
        "<a href=\"https://colab.research.google.com/github/Deepty11/GastroIntestinal-Pathological-Findings-Classification/blob/main/Train_Test_Folder_generation.ipynb\" target=\"_parent\"><img src=\"https://colab.research.google.com/assets/colab-badge.svg\" alt=\"Open In Colab\"/></a>"
      ]
    },
    {
      "cell_type": "code",
      "metadata": {
        "colab": {
          "base_uri": "https://localhost:8080/"
        },
        "id": "APdlp0cZW3TI",
        "outputId": "cebe3cc8-bed3-426c-fe53-89a4c0c9a6e0"
      },
      "source": [
        "from google.colab import drive\n",
        "drive.mount(\"/content/dirve\")"
      ],
      "execution_count": null,
      "outputs": [
        {
          "output_type": "stream",
          "name": "stdout",
          "text": [
            "Drive already mounted at /content/dirve; to attempt to forcibly remount, call drive.mount(\"/content/dirve\", force_remount=True).\n"
          ]
        }
      ]
    },
    {
      "cell_type": "code",
      "metadata": {
        "id": "s0BXVmsNW4wO",
        "colab": {
          "base_uri": "https://localhost:8080/"
        },
        "outputId": "3cecc87c-ac9f-4132-e067-6bb7d6cdbb2f"
      },
      "source": [
        "import os\n",
        "import numpy as np\n",
        "import shutil\n",
        "import random\n",
        "root_dir = '/content/dirve/MyDrive/Thesis work/dataset_v2/'\n",
        "classes_dir = ['esophagitis', 'normal_z_line','normal_cecum','normal_pylorus','polyps','ulcerative_colitis']\n",
        "\n",
        "test_ratio = 0.20\n",
        "\n",
        "for cls in classes_dir:\n",
        "    os.makedirs(root_dir +'train/' + cls)\n",
        "    os.makedirs(root_dir +'test/' + cls)\n",
        "\n",
        "src = root_dir + cls\n",
        "print(cls)\n",
        "allFileNames = os.listdir(src)\n",
        "np.random.shuffle(allFileNames)\n",
        "train_FileNames, test_FileNames = np.split(np.array(allFileNames),[int(len(allFileNames)* (1 - test_ratio))])\n",
        "\n",
        "\n",
        "train_FileNames = [src+'/'+ name for name in train_FileNames.tolist()]\n",
        "test_FileNames = [src+'/' + name for name in test_FileNames.tolist()]\n",
        "\n",
        "print(\"*****************************\")\n",
        "print('Total images: ', len(allFileNames))\n",
        "print('Training: ', len(train_FileNames))\n",
        "print('Testing: ', len(test_FileNames))\n",
        "print(\"*****************************\")\n",
        "\n",
        "lab = ['esophagitis', 'normal_z_line','normal_cecum','normal_pylorus','polyps','ulcerative_colitis']\n",
        "\n",
        "for name in train_FileNames:\n",
        "    for i in lab:\n",
        "        shutil.copy(name, root_dir +'train/' + i)\n",
        "\n",
        "for name in test_FileNames:\n",
        "    for i in lab:\n",
        "        shutil.copy(name, root_dir +'test/' + i)\n",
        "print(\"Copying Done!\")"
      ],
      "execution_count": null,
      "outputs": [
        {
          "output_type": "stream",
          "name": "stdout",
          "text": [
            "ulcerative_colitis\n",
            "*****************************\n",
            "Total images:  997\n",
            "Training:  797\n",
            "Testing:  200\n",
            "*****************************\n",
            "Copying Done!\n"
          ]
        }
      ]
    }
  ]
}